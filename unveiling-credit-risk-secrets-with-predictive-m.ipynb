{
 "cells": [
  {
   "cell_type": "markdown",
   "id": "3a214d28",
   "metadata": {
    "papermill": {
     "duration": 0.004521,
     "end_time": "2024-11-20T11:46:54.895089",
     "exception": false,
     "start_time": "2024-11-20T11:46:54.890568",
     "status": "completed"
    },
    "tags": []
   },
   "source": [
    "In the world of finance, predicting credit risk is akin to having a crystal ball. With the right data, we can foresee potential defaults and mitigate risks. This notebook dives into a credit risk dataset to uncover insights and build a predictive model.\n",
    "\n",
    "If you find this notebook useful, please consider upvoting it."
   ]
  },
  {
   "cell_type": "markdown",
   "id": "d5804e3f",
   "metadata": {
    "papermill": {
     "duration": 0.002919,
     "end_time": "2024-11-20T11:46:54.901370",
     "exception": false,
     "start_time": "2024-11-20T11:46:54.898451",
     "status": "completed"
    },
    "tags": []
   },
   "source": [
    "<div style=\"text-align:center; border-radius:15px; padding:15px; color:#FFC0CB; margin:0; font-size:150%; font-family: 'Orbitron', sans-serif; background: #2E0249; background: #11001C; box-shadow: 0px 4px 8px rgba(0, 0, 0, 0.3); overflow:hidden; margin-bottom: 1em;\"><b>Table of contents</b></div>\n",
    "- [Data Loading and Overview](#data-loading-and-overview)\n",
    "- [Exploratory Data Analysis](#exploratory-data-analysis)\n",
    "- [Data Preprocessing](#data-preprocessing)\n",
    "- [Model Building and Evaluation](#model-building-and-evaluation)\n",
    "- [Discussion and Future Work](#discussion-and-future-work)"
   ]
  },
  {
   "cell_type": "markdown",
   "id": "4c0fea88",
   "metadata": {
    "papermill": {
     "duration": 0.002597,
     "end_time": "2024-11-20T11:46:54.906969",
     "exception": false,
     "start_time": "2024-11-20T11:46:54.904372",
     "status": "completed"
    },
    "tags": []
   },
   "source": [
    "<div style=\"text-align:center; border-radius:15px; padding:15px; color:#FFC0CB; margin:0; font-size:150%; font-family: 'Orbitron', sans-serif; background: #2E0249; background: #11001C; box-shadow: 0px 4px 8px rgba(0, 0, 0, 0.3); overflow:hidden; margin-bottom: 1em;\"><b>Data Loading and Overview</b></div>"
   ]
  },
  {
   "cell_type": "code",
   "execution_count": 1,
   "id": "e4ad331f",
   "metadata": {
    "execution": {
     "iopub.execute_input": "2024-11-20T11:46:54.915299Z",
     "iopub.status.busy": "2024-11-20T11:46:54.914872Z",
     "iopub.status.idle": "2024-11-20T11:46:57.758651Z",
     "shell.execute_reply": "2024-11-20T11:46:57.757462Z"
    },
    "papermill": {
     "duration": 2.850599,
     "end_time": "2024-11-20T11:46:57.760799",
     "exception": false,
     "start_time": "2024-11-20T11:46:54.910200",
     "status": "completed"
    },
    "tags": []
   },
   "outputs": [
    {
     "data": {
      "text/html": [
       "<div>\n",
       "<style scoped>\n",
       "    .dataframe tbody tr th:only-of-type {\n",
       "        vertical-align: middle;\n",
       "    }\n",
       "\n",
       "    .dataframe tbody tr th {\n",
       "        vertical-align: top;\n",
       "    }\n",
       "\n",
       "    .dataframe thead th {\n",
       "        text-align: right;\n",
       "    }\n",
       "</style>\n",
       "<table border=\"1\" class=\"dataframe\">\n",
       "  <thead>\n",
       "    <tr style=\"text-align: right;\">\n",
       "      <th></th>\n",
       "      <th>checking_balance</th>\n",
       "      <th>months_loan_duration</th>\n",
       "      <th>credit_history</th>\n",
       "      <th>purpose</th>\n",
       "      <th>amount</th>\n",
       "      <th>savings_balance</th>\n",
       "      <th>employment_duration</th>\n",
       "      <th>percent_of_income</th>\n",
       "      <th>years_at_residence</th>\n",
       "      <th>age</th>\n",
       "      <th>other_credit</th>\n",
       "      <th>housing</th>\n",
       "      <th>existing_loans_count</th>\n",
       "      <th>job</th>\n",
       "      <th>dependents</th>\n",
       "      <th>phone</th>\n",
       "      <th>default</th>\n",
       "    </tr>\n",
       "  </thead>\n",
       "  <tbody>\n",
       "    <tr>\n",
       "      <th>0</th>\n",
       "      <td>&lt; 0 DM</td>\n",
       "      <td>6</td>\n",
       "      <td>critical</td>\n",
       "      <td>furniture/appliances</td>\n",
       "      <td>1169</td>\n",
       "      <td>unknown</td>\n",
       "      <td>&gt; 7 years</td>\n",
       "      <td>4</td>\n",
       "      <td>4</td>\n",
       "      <td>67</td>\n",
       "      <td>none</td>\n",
       "      <td>own</td>\n",
       "      <td>2</td>\n",
       "      <td>skilled</td>\n",
       "      <td>1</td>\n",
       "      <td>yes</td>\n",
       "      <td>no</td>\n",
       "    </tr>\n",
       "    <tr>\n",
       "      <th>1</th>\n",
       "      <td>1 - 200 DM</td>\n",
       "      <td>48</td>\n",
       "      <td>good</td>\n",
       "      <td>furniture/appliances</td>\n",
       "      <td>5951</td>\n",
       "      <td>&lt; 100 DM</td>\n",
       "      <td>1 - 4 years</td>\n",
       "      <td>2</td>\n",
       "      <td>2</td>\n",
       "      <td>22</td>\n",
       "      <td>none</td>\n",
       "      <td>own</td>\n",
       "      <td>1</td>\n",
       "      <td>skilled</td>\n",
       "      <td>1</td>\n",
       "      <td>no</td>\n",
       "      <td>yes</td>\n",
       "    </tr>\n",
       "    <tr>\n",
       "      <th>2</th>\n",
       "      <td>unknown</td>\n",
       "      <td>12</td>\n",
       "      <td>critical</td>\n",
       "      <td>education</td>\n",
       "      <td>2096</td>\n",
       "      <td>&lt; 100 DM</td>\n",
       "      <td>4 - 7 years</td>\n",
       "      <td>2</td>\n",
       "      <td>3</td>\n",
       "      <td>49</td>\n",
       "      <td>none</td>\n",
       "      <td>own</td>\n",
       "      <td>1</td>\n",
       "      <td>unskilled</td>\n",
       "      <td>2</td>\n",
       "      <td>no</td>\n",
       "      <td>no</td>\n",
       "    </tr>\n",
       "    <tr>\n",
       "      <th>3</th>\n",
       "      <td>&lt; 0 DM</td>\n",
       "      <td>42</td>\n",
       "      <td>good</td>\n",
       "      <td>furniture/appliances</td>\n",
       "      <td>7882</td>\n",
       "      <td>&lt; 100 DM</td>\n",
       "      <td>4 - 7 years</td>\n",
       "      <td>2</td>\n",
       "      <td>4</td>\n",
       "      <td>45</td>\n",
       "      <td>none</td>\n",
       "      <td>other</td>\n",
       "      <td>1</td>\n",
       "      <td>skilled</td>\n",
       "      <td>2</td>\n",
       "      <td>no</td>\n",
       "      <td>no</td>\n",
       "    </tr>\n",
       "    <tr>\n",
       "      <th>4</th>\n",
       "      <td>&lt; 0 DM</td>\n",
       "      <td>24</td>\n",
       "      <td>poor</td>\n",
       "      <td>car</td>\n",
       "      <td>4870</td>\n",
       "      <td>&lt; 100 DM</td>\n",
       "      <td>1 - 4 years</td>\n",
       "      <td>3</td>\n",
       "      <td>4</td>\n",
       "      <td>53</td>\n",
       "      <td>none</td>\n",
       "      <td>other</td>\n",
       "      <td>2</td>\n",
       "      <td>skilled</td>\n",
       "      <td>2</td>\n",
       "      <td>no</td>\n",
       "      <td>yes</td>\n",
       "    </tr>\n",
       "  </tbody>\n",
       "</table>\n",
       "</div>"
      ],
      "text/plain": [
       "  checking_balance  months_loan_duration credit_history               purpose  \\\n",
       "0           < 0 DM                     6       critical  furniture/appliances   \n",
       "1       1 - 200 DM                    48           good  furniture/appliances   \n",
       "2          unknown                    12       critical             education   \n",
       "3           < 0 DM                    42           good  furniture/appliances   \n",
       "4           < 0 DM                    24           poor                   car   \n",
       "\n",
       "   amount savings_balance employment_duration  percent_of_income  \\\n",
       "0    1169         unknown           > 7 years                  4   \n",
       "1    5951        < 100 DM         1 - 4 years                  2   \n",
       "2    2096        < 100 DM         4 - 7 years                  2   \n",
       "3    7882        < 100 DM         4 - 7 years                  2   \n",
       "4    4870        < 100 DM         1 - 4 years                  3   \n",
       "\n",
       "   years_at_residence  age other_credit housing  existing_loans_count  \\\n",
       "0                   4   67         none     own                     2   \n",
       "1                   2   22         none     own                     1   \n",
       "2                   3   49         none     own                     1   \n",
       "3                   4   45         none   other                     1   \n",
       "4                   4   53         none   other                     2   \n",
       "\n",
       "         job  dependents phone default  \n",
       "0    skilled           1   yes      no  \n",
       "1    skilled           1    no     yes  \n",
       "2  unskilled           2    no      no  \n",
       "3    skilled           2    no      no  \n",
       "4    skilled           2    no     yes  "
      ]
     },
     "execution_count": 1,
     "metadata": {},
     "output_type": "execute_result"
    }
   ],
   "source": [
    "import pandas as pd\n",
    "import numpy as np\n",
    "import matplotlib\n",
    "matplotlib.use('Agg')\n",
    "import matplotlib.pyplot as plt\n",
    "%matplotlib inline\n",
    "import seaborn as sns\n",
    "import warnings\n",
    "warnings.filterwarnings('ignore')\n",
    "\n",
    "# Load the dataset\n",
    "df = pd.read_csv('/kaggle/input/credit-risk/credit.csv')\n",
    "\n",
    "# Display the first few rows of the dataset\n",
    "df.head()"
   ]
  },
  {
   "cell_type": "markdown",
   "id": "273aa3bc",
   "metadata": {
    "papermill": {
     "duration": 0.00296,
     "end_time": "2024-11-20T11:46:57.767314",
     "exception": false,
     "start_time": "2024-11-20T11:46:57.764354",
     "status": "completed"
    },
    "tags": []
   },
   "source": [
    "<div style=\"text-align:center; border-radius:15px; padding:15px; color:#FFC0CB; margin:0; font-size:150%; font-family: 'Orbitron', sans-serif; background: #2E0249; background: #11001C; box-shadow: 0px 4px 8px rgba(0, 0, 0, 0.3); overflow:hidden; margin-bottom: 1em;\"><b>Exploratory Data Analysis</b></div>"
   ]
  },
  {
   "cell_type": "code",
   "execution_count": 2,
   "id": "abc8c3ef",
   "metadata": {
    "execution": {
     "iopub.execute_input": "2024-11-20T11:46:57.775777Z",
     "iopub.status.busy": "2024-11-20T11:46:57.775400Z",
     "iopub.status.idle": "2024-11-20T11:46:57.812153Z",
     "shell.execute_reply": "2024-11-20T11:46:57.810693Z"
    },
    "papermill": {
     "duration": 0.045165,
     "end_time": "2024-11-20T11:46:57.815537",
     "exception": false,
     "start_time": "2024-11-20T11:46:57.770372",
     "status": "completed"
    },
    "tags": []
   },
   "outputs": [
    {
     "data": {
      "text/html": [
       "<div>\n",
       "<style scoped>\n",
       "    .dataframe tbody tr th:only-of-type {\n",
       "        vertical-align: middle;\n",
       "    }\n",
       "\n",
       "    .dataframe tbody tr th {\n",
       "        vertical-align: top;\n",
       "    }\n",
       "\n",
       "    .dataframe thead th {\n",
       "        text-align: right;\n",
       "    }\n",
       "</style>\n",
       "<table border=\"1\" class=\"dataframe\">\n",
       "  <thead>\n",
       "    <tr style=\"text-align: right;\">\n",
       "      <th></th>\n",
       "      <th>months_loan_duration</th>\n",
       "      <th>amount</th>\n",
       "      <th>percent_of_income</th>\n",
       "      <th>years_at_residence</th>\n",
       "      <th>age</th>\n",
       "      <th>existing_loans_count</th>\n",
       "      <th>dependents</th>\n",
       "    </tr>\n",
       "  </thead>\n",
       "  <tbody>\n",
       "    <tr>\n",
       "      <th>count</th>\n",
       "      <td>1000.000000</td>\n",
       "      <td>1000.000000</td>\n",
       "      <td>1000.000000</td>\n",
       "      <td>1000.000000</td>\n",
       "      <td>1000.000000</td>\n",
       "      <td>1000.000000</td>\n",
       "      <td>1000.000000</td>\n",
       "    </tr>\n",
       "    <tr>\n",
       "      <th>mean</th>\n",
       "      <td>20.903000</td>\n",
       "      <td>3271.258000</td>\n",
       "      <td>2.973000</td>\n",
       "      <td>2.845000</td>\n",
       "      <td>35.546000</td>\n",
       "      <td>1.407000</td>\n",
       "      <td>1.155000</td>\n",
       "    </tr>\n",
       "    <tr>\n",
       "      <th>std</th>\n",
       "      <td>12.058814</td>\n",
       "      <td>2822.736876</td>\n",
       "      <td>1.118715</td>\n",
       "      <td>1.103718</td>\n",
       "      <td>11.375469</td>\n",
       "      <td>0.577654</td>\n",
       "      <td>0.362086</td>\n",
       "    </tr>\n",
       "    <tr>\n",
       "      <th>min</th>\n",
       "      <td>4.000000</td>\n",
       "      <td>250.000000</td>\n",
       "      <td>1.000000</td>\n",
       "      <td>1.000000</td>\n",
       "      <td>19.000000</td>\n",
       "      <td>1.000000</td>\n",
       "      <td>1.000000</td>\n",
       "    </tr>\n",
       "    <tr>\n",
       "      <th>25%</th>\n",
       "      <td>12.000000</td>\n",
       "      <td>1365.500000</td>\n",
       "      <td>2.000000</td>\n",
       "      <td>2.000000</td>\n",
       "      <td>27.000000</td>\n",
       "      <td>1.000000</td>\n",
       "      <td>1.000000</td>\n",
       "    </tr>\n",
       "    <tr>\n",
       "      <th>50%</th>\n",
       "      <td>18.000000</td>\n",
       "      <td>2319.500000</td>\n",
       "      <td>3.000000</td>\n",
       "      <td>3.000000</td>\n",
       "      <td>33.000000</td>\n",
       "      <td>1.000000</td>\n",
       "      <td>1.000000</td>\n",
       "    </tr>\n",
       "    <tr>\n",
       "      <th>75%</th>\n",
       "      <td>24.000000</td>\n",
       "      <td>3972.250000</td>\n",
       "      <td>4.000000</td>\n",
       "      <td>4.000000</td>\n",
       "      <td>42.000000</td>\n",
       "      <td>2.000000</td>\n",
       "      <td>1.000000</td>\n",
       "    </tr>\n",
       "    <tr>\n",
       "      <th>max</th>\n",
       "      <td>72.000000</td>\n",
       "      <td>18424.000000</td>\n",
       "      <td>4.000000</td>\n",
       "      <td>4.000000</td>\n",
       "      <td>75.000000</td>\n",
       "      <td>4.000000</td>\n",
       "      <td>2.000000</td>\n",
       "    </tr>\n",
       "  </tbody>\n",
       "</table>\n",
       "</div>"
      ],
      "text/plain": [
       "       months_loan_duration        amount  percent_of_income  \\\n",
       "count           1000.000000   1000.000000        1000.000000   \n",
       "mean              20.903000   3271.258000           2.973000   \n",
       "std               12.058814   2822.736876           1.118715   \n",
       "min                4.000000    250.000000           1.000000   \n",
       "25%               12.000000   1365.500000           2.000000   \n",
       "50%               18.000000   2319.500000           3.000000   \n",
       "75%               24.000000   3972.250000           4.000000   \n",
       "max               72.000000  18424.000000           4.000000   \n",
       "\n",
       "       years_at_residence          age  existing_loans_count   dependents  \n",
       "count         1000.000000  1000.000000           1000.000000  1000.000000  \n",
       "mean             2.845000    35.546000              1.407000     1.155000  \n",
       "std              1.103718    11.375469              0.577654     0.362086  \n",
       "min              1.000000    19.000000              1.000000     1.000000  \n",
       "25%              2.000000    27.000000              1.000000     1.000000  \n",
       "50%              3.000000    33.000000              1.000000     1.000000  \n",
       "75%              4.000000    42.000000              2.000000     1.000000  \n",
       "max              4.000000    75.000000              4.000000     2.000000  "
      ]
     },
     "execution_count": 2,
     "metadata": {},
     "output_type": "execute_result"
    }
   ],
   "source": [
    "# Summary statistics\n",
    "df.describe()"
   ]
  },
  {
   "cell_type": "code",
   "execution_count": 3,
   "id": "14504d9f",
   "metadata": {
    "execution": {
     "iopub.execute_input": "2024-11-20T11:46:57.830138Z",
     "iopub.status.busy": "2024-11-20T11:46:57.829540Z",
     "iopub.status.idle": "2024-11-20T11:46:57.841928Z",
     "shell.execute_reply": "2024-11-20T11:46:57.840748Z"
    },
    "papermill": {
     "duration": 0.022605,
     "end_time": "2024-11-20T11:46:57.844816",
     "exception": false,
     "start_time": "2024-11-20T11:46:57.822211",
     "status": "completed"
    },
    "tags": []
   },
   "outputs": [
    {
     "data": {
      "text/plain": [
       "checking_balance        0\n",
       "months_loan_duration    0\n",
       "credit_history          0\n",
       "purpose                 0\n",
       "amount                  0\n",
       "savings_balance         0\n",
       "employment_duration     0\n",
       "percent_of_income       0\n",
       "years_at_residence      0\n",
       "age                     0\n",
       "other_credit            0\n",
       "housing                 0\n",
       "existing_loans_count    0\n",
       "job                     0\n",
       "dependents              0\n",
       "phone                   0\n",
       "default                 0\n",
       "dtype: int64"
      ]
     },
     "execution_count": 3,
     "metadata": {},
     "output_type": "execute_result"
    }
   ],
   "source": [
    "# Check for missing values\n",
    "df.isnull().sum()"
   ]
  },
  {
   "cell_type": "code",
   "execution_count": 4,
   "id": "7d61592a",
   "metadata": {
    "execution": {
     "iopub.execute_input": "2024-11-20T11:46:57.857716Z",
     "iopub.status.busy": "2024-11-20T11:46:57.856330Z",
     "iopub.status.idle": "2024-11-20T11:46:58.147483Z",
     "shell.execute_reply": "2024-11-20T11:46:58.146097Z"
    },
    "papermill": {
     "duration": 0.29997,
     "end_time": "2024-11-20T11:46:58.149712",
     "exception": false,
     "start_time": "2024-11-20T11:46:57.849742",
     "status": "completed"
    },
    "tags": []
   },
   "outputs": [
    {
     "data": {
      "image/png": "[encoded data removed]",
      "text/plain": [
       "<Figure size 640x480 with 1 Axes>"
      ]
     },
     "metadata": {},
     "output_type": "display_data"
    }
   ],
   "source": [
    "# Distribution of the target variable\n",
    "sns.countplot(x='default', data=df)\n",
    "plt.title('Distribution of Default')\n",
    "plt.show()"
   ]
  },
  {
   "cell_type": "code",
   "execution_count": 5,
   "id": "00bb2ac8",
   "metadata": {
    "execution": {
     "iopub.execute_input": "2024-11-20T11:46:58.159599Z",
     "iopub.status.busy": "2024-11-20T11:46:58.159239Z",
     "iopub.status.idle": "2024-11-20T11:46:58.666916Z",
     "shell.execute_reply": "2024-11-20T11:46:58.665592Z"
    },
    "papermill": {
     "duration": 0.515714,
     "end_time": "2024-11-20T11:46:58.669590",
     "exception": false,
     "start_time": "2024-11-20T11:46:58.153876",
     "status": "completed"
    },
    "tags": []
   },
   "outputs": [
    {
     "data": {
      "image/png": "[encoded data removed]",
      "text/plain": [
       "<Figure size 1000x800 with 2 Axes>"
      ]
     },
     "metadata": {},
     "output_type": "display_data"
    }
   ],
   "source": [
    "# Correlation heatmap\n",
    "numeric_df = df.select_dtypes(include=[np.number])\n",
    "plt.figure(figsize=(10, 8))\n",
    "sns.heatmap(numeric_df.corr(), annot=True, cmap='viridis')\n",
    "plt.title('Correlation Heatmap')\n",
    "plt.show()"
   ]
  },
  {
   "cell_type": "markdown",
   "id": "daa62905",
   "metadata": {
    "papermill": {
     "duration": 0.005058,
     "end_time": "2024-11-20T11:46:58.679989",
     "exception": false,
     "start_time": "2024-11-20T11:46:58.674931",
     "status": "completed"
    },
    "tags": []
   },
   "source": [
    "<div style=\"text-align:center; border-radius:15px; padding:15px; color:#FFC0CB; margin:0; font-size:150%; font-family: 'Orbitron', sans-serif; background: #2E0249; background: #11001C; box-shadow: 0px 4px 8px rgba(0, 0, 0, 0.3); overflow:hidden; margin-bottom: 1em;\"><b>Data Preprocessing</b></div>"
   ]
  },
  {
   "cell_type": "code",
   "execution_count": 6,
   "id": "ce88d077",
   "metadata": {
    "execution": {
     "iopub.execute_input": "2024-11-20T11:46:58.693621Z",
     "iopub.status.busy": "2024-11-20T11:46:58.692775Z",
     "iopub.status.idle": "2024-11-20T11:46:58.710056Z",
     "shell.execute_reply": "2024-11-20T11:46:58.708879Z"
    },
    "papermill": {
     "duration": 0.026947,
     "end_time": "2024-11-20T11:46:58.712232",
     "exception": false,
     "start_time": "2024-11-20T11:46:58.685285",
     "status": "completed"
    },
    "tags": []
   },
   "outputs": [],
   "source": [
    "# Convert categorical variables to dummy variables\n",
    "df = pd.get_dummies(df, drop_first=True)\n",
    "\n",
    "# Separate features and target\n",
    "X = df.drop('default_yes', axis=1)\n",
    "y = df['default_yes']"
   ]
  },
  {
   "cell_type": "markdown",
   "id": "3a420425",
   "metadata": {
    "papermill": {
     "duration": 0.005172,
     "end_time": "2024-11-20T11:46:58.722937",
     "exception": false,
     "start_time": "2024-11-20T11:46:58.717765",
     "status": "completed"
    },
    "tags": []
   },
   "source": [
    "<div style=\"text-align:center; border-radius:15px; padding:15px; color:#FFC0CB; margin:0; font-size:150%; font-family: 'Orbitron', sans-serif; background: #2E0249; background: #11001C; box-shadow: 0px 4px 8px rgba(0, 0, 0, 0.3); overflow:hidden; margin-bottom: 1em;\"><b>Model Building and Evaluation</b></div>"
   ]
  },
  {
   "cell_type": "code",
   "execution_count": 7,
   "id": "e96067e2",
   "metadata": {
    "execution": {
     "iopub.execute_input": "2024-11-20T11:46:58.736775Z",
     "iopub.status.busy": "2024-11-20T11:46:58.735626Z",
     "iopub.status.idle": "2024-11-20T11:46:59.604747Z",
     "shell.execute_reply": "2024-11-20T11:46:59.603403Z"
    },
    "papermill": {
     "duration": 0.878897,
     "end_time": "2024-11-20T11:46:59.607270",
     "exception": false,
     "start_time": "2024-11-20T11:46:58.728373",
     "status": "completed"
    },
    "tags": []
   },
   "outputs": [
    {
     "data": {
      "text/plain": [
       "(0.79,\n",
       " '              precision    recall  f1-score   support\\n\\n       False       0.80      0.94      0.86       141\\n        True       0.76      0.42      0.54        59\\n\\n    accuracy                           0.79       200\\n   macro avg       0.78      0.68      0.70       200\\nweighted avg       0.78      0.79      0.77       200\\n')"
      ]
     },
     "execution_count": 7,
     "metadata": {},
     "output_type": "execute_result"
    }
   ],
   "source": [
    "from sklearn.model_selection import train_test_split\n",
    "from sklearn.ensemble import RandomForestClassifier\n",
    "from sklearn.metrics import accuracy_score, classification_report\n",
    "\n",
    "# Split the data into training and testing sets\n",
    "X_train, X_test, y_train, y_test = train_test_split(X, y, test_size=0.2, random_state=42)\n",
    "\n",
    "# Initialize and train the model\n",
    "model = RandomForestClassifier(random_state=42)\n",
    "model.fit(X_train, y_train)\n",
    "\n",
    "# Make predictions\n",
    "y_pred = model.predict(X_test)\n",
    "\n",
    "# Evaluate the model\n",
    "accuracy = accuracy_score(y_test, y_pred)\n",
    "report = classification_report(y_test, y_pred)\n",
    "\n",
    "accuracy, report"
   ]
  },
  {
   "cell_type": "markdown",
   "id": "1252d330",
   "metadata": {
    "papermill": {
     "duration": 0.005328,
     "end_time": "2024-11-20T11:46:59.618233",
     "exception": false,
     "start_time": "2024-11-20T11:46:59.612905",
     "status": "completed"
    },
    "tags": []
   },
   "source": [
    "<div style=\"text-align:center; border-radius:15px; padding:15px; color:#FFC0CB; margin:0; font-size:150%; font-family: 'Orbitron', sans-serif; background: #2E0249; background: #11001C; box-shadow: 0px 4px 8px rgba(0, 0, 0, 0.3); overflow:hidden; margin-bottom: 1em;\"><b>Discussion and Future Work</b></div>"
   ]
  },
  {
   "cell_type": "markdown",
   "id": "31887104",
   "metadata": {
    "papermill": {
     "duration": 0.005216,
     "end_time": "2024-11-20T11:46:59.628897",
     "exception": false,
     "start_time": "2024-11-20T11:46:59.623681",
     "status": "completed"
    },
    "tags": []
   },
   "source": [
    "In this notebook, we explored a credit risk dataset, performed exploratory data analysis, and built a predictive model using a Random Forest Classifier. The model achieved a certain level of accuracy, which provides a baseline for future improvements.\n",
    "\n",
    "Future work could involve experimenting with different models, tuning hyperparameters, and incorporating additional features to enhance predictive performance. Additionally, exploring feature importance could provide insights into the most influential factors in predicting credit default."
   ]
  },
  {
   "cell_type": "markdown",
   "id": "c6cceeb8",
   "metadata": {
    "papermill": {
     "duration": 0.005128,
     "end_time": "2024-11-20T11:46:59.639539",
     "exception": false,
     "start_time": "2024-11-20T11:46:59.634411",
     "status": "completed"
    },
    "tags": []
   },
   "source": [
    "## Credits\n",
    "This notebook was created with the help of [Devra AI data science assistant](https://devra.ai/ref/kaggle)"
   ]
  }
 ],
 "metadata": {
  "kernelspec": {
   "display_name": "Python 3",
   "language": "python",
   "name": "python3"
  },
  "language_info": {
   "codemirror_mode": {
    "name": "ipython",
    "version": 3
   },
   "file_extension": ".py",
   "mimetype": "text/x-python",
   "name": "python",
   "nbconvert_exporter": "python",
   "pygments_lexer": "ipython3",
   "version": "3.10.14"
  },
  "papermill": {
   "default_parameters": {},
   "duration": 8.399684,
   "end_time": "2024-11-20T11:47:00.367256",
   "environment_variables": {},
   "exception": null,
   "input_path": "__notebook__.ipynb",
   "output_path": "__notebook__.ipynb",
   "parameters": {},
   "start_time": "2024-11-20T11:46:51.967572",
   "version": "2.6.0"
  }
 },
 "nbformat": 4,
 "nbformat_minor": 5
}
